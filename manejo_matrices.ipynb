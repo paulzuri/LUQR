{
 "cells": [
  {
   "cell_type": "code",
   "execution_count": 22,
   "metadata": {},
   "outputs": [
    {
     "name": "stdout",
     "output_type": "stream",
     "text": [
      "Su matriz es:\n",
      "[1.0, 2.0, 3.0]\n",
      "[4.0, 5.0, 6.0]\n",
      "[7.0, 8.0, 9.0]\n"
     ]
    },
    {
     "data": {
      "text/plain": [
       "'\\nuser_matrix = [[random.random() for _ in range(3)] for _ in range(3)]\\nprint(\"Random 3x3 Matrix:\")\\nfor row in user_matrix:\\n    print(row)\\n'"
      ]
     },
     "execution_count": 22,
     "metadata": {},
     "output_type": "execute_result"
    }
   ],
   "source": [
    "import numpy\n",
    "import numpy.matlib\n",
    "import random\n",
    "\n",
    "def create_matrix(rows, cols):\n",
    "    matrix = []\n",
    "    for i in range(rows):\n",
    "        row = []\n",
    "        for j in range(cols):\n",
    "            element = float(input(f\"Ingrese elemento en la posición: ({i+1}, {j+1}): \"))\n",
    "            row.append(element)\n",
    "        matrix.append(row)\n",
    "    return matrix\n",
    "\n",
    "def transpose_matrix(matrix):\n",
    "    # Use nested list comprehension to transpose the matrix\n",
    "    transposed_matrix = [[matrix[j][i] for j in range(len(matrix))] for i in range(len(matrix[0]))]\n",
    "    return transposed_matrix\n",
    "\n",
    "def is_symmetric(matrix):\n",
    "    # Check if the matrix is equal to its transpose\n",
    "    return all(matrix[i][j] == matrix[j][i] for i in range(len(matrix)) for j in range(len(matrix[0])))\n",
    "\n",
    "# user input\n",
    "\n",
    "rows = int(input(\"Ingrese el nùmero de filas: \"))\n",
    "cols = int(input(\"Ingrese el nùmero de columnas: \"))\n",
    "\n",
    "user_matrix = create_matrix(rows, cols)\n",
    "\n",
    "print(\"Su matriz es:\")\n",
    "for row in user_matrix:\n",
    "    print(row)\n",
    "\n",
    "\n",
    "'''\n",
    "user_matrix = [[random.random() for _ in range(3)] for _ in range(3)]\n",
    "print(\"Random 3x3 Matrix:\")\n",
    "for row in user_matrix:\n",
    "    print(row)\n",
    "'''"
   ]
  },
  {
   "cell_type": "code",
   "execution_count": 23,
   "metadata": {},
   "outputs": [
    {
     "name": "stdout",
     "output_type": "stream",
     "text": [
      "\n",
      "Matriz traspuesta:\n",
      "[1.0, 4.0, 7.0]\n",
      "[2.0, 5.0, 8.0]\n",
      "[3.0, 6.0, 9.0]\n"
     ]
    }
   ],
   "source": [
    "# traspuesta\n",
    "\n",
    "transposed_matrix = transpose_matrix(user_matrix)\n",
    "\n",
    "print(\"\\nMatriz traspuesta:\")\n",
    "for row in transposed_matrix:\n",
    "    print(row)"
   ]
  },
  {
   "cell_type": "code",
   "execution_count": 24,
   "metadata": {},
   "outputs": [
    {
     "name": "stdout",
     "output_type": "stream",
     "text": [
      "Matriz simétrica False\n"
     ]
    }
   ],
   "source": [
    "# simétrica\n",
    "\n",
    "# Check if matrices are symmetric\n",
    "print(\"Matriz simétrica\", is_symmetric(user_matrix))\n"
   ]
  },
  {
   "cell_type": "code",
   "execution_count": 25,
   "metadata": {},
   "outputs": [
    {
     "name": "stdout",
     "output_type": "stream",
     "text": [
      "Matriz cuadrada? True\n"
     ]
    }
   ],
   "source": [
    "# cuadrada\n",
    "print(\"Matriz cuadrada?\", rows == cols)\n"
   ]
  },
  {
   "cell_type": "code",
   "execution_count": 26,
   "metadata": {},
   "outputs": [
    {
     "name": "stdout",
     "output_type": "stream",
     "text": [
      "Triangular superior:\n",
      "[[1. 2. 3.]\n",
      " [0. 5. 6.]\n",
      " [0. 0. 9.]]\n",
      "\n",
      "Triangular inferior:\n",
      "[[1. 0. 0.]\n",
      " [4. 5. 0.]\n",
      " [7. 8. 9.]]\n"
     ]
    }
   ],
   "source": [
    "# triangulares\n",
    "triangular_superior = numpy.triu(user_matrix)\n",
    "triangular_inferior = numpy.tril(user_matrix)\n",
    "\n",
    "print('Triangular superior:')\n",
    "print(triangular_superior)\n",
    "\n",
    "print('\\nTriangular inferior:')\n",
    "print(triangular_inferior)\n"
   ]
  },
  {
   "cell_type": "code",
   "execution_count": 27,
   "metadata": {},
   "outputs": [
    {
     "name": "stdout",
     "output_type": "stream",
     "text": [
      "Matriz diagonal:\n",
      "[1. 5. 9.]\n"
     ]
    }
   ],
   "source": [
    "# diagonal\n",
    "\n",
    "matriz_diagonal = numpy.diag(user_matrix)\n",
    "print('Matriz diagonal:')\n",
    "print(matriz_diagonal)"
   ]
  }
 ],
 "metadata": {
  "kernelspec": {
   "display_name": "base",
   "language": "python",
   "name": "python3"
  },
  "language_info": {
   "codemirror_mode": {
    "name": "ipython",
    "version": 3
   },
   "file_extension": ".py",
   "mimetype": "text/x-python",
   "name": "python",
   "nbconvert_exporter": "python",
   "pygments_lexer": "ipython3",
   "version": "3.12.1"
  }
 },
 "nbformat": 4,
 "nbformat_minor": 2
}
